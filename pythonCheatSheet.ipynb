{
 "cells": [
  {
   "cell_type": "code",
   "execution_count": 1,
   "metadata": {},
   "outputs": [],
   "source": [
    "import pandas as pd\n",
    "import numpy as np"
   ]
  },
  {
   "cell_type": "markdown",
   "metadata": {},
   "source": [
    "# Show entire dataframe cell contents"
   ]
  },
  {
   "cell_type": "code",
   "execution_count": 3,
   "metadata": {},
   "outputs": [],
   "source": [
    "pd.set_option('display.max_colwidth', None)"
   ]
  },
  {
   "cell_type": "markdown",
   "metadata": {},
   "source": [
    "# Sample Data"
   ]
  },
  {
   "cell_type": "code",
   "execution_count": 4,
   "metadata": {
    "scrolled": true
   },
   "outputs": [
    {
     "data": {
      "text/html": [
       "<div>\n",
       "<style scoped>\n",
       "    .dataframe tbody tr th:only-of-type {\n",
       "        vertical-align: middle;\n",
       "    }\n",
       "\n",
       "    .dataframe tbody tr th {\n",
       "        vertical-align: top;\n",
       "    }\n",
       "\n",
       "    .dataframe thead th {\n",
       "        text-align: right;\n",
       "    }\n",
       "</style>\n",
       "<table border=\"1\" class=\"dataframe\">\n",
       "  <thead>\n",
       "    <tr style=\"text-align: right;\">\n",
       "      <th></th>\n",
       "      <th>AAPL</th>\n",
       "      <th>AMZN</th>\n",
       "      <th>FB</th>\n",
       "      <th>GOOG</th>\n",
       "      <th>NFLX</th>\n",
       "    </tr>\n",
       "    <tr>\n",
       "      <th>date</th>\n",
       "      <th></th>\n",
       "      <th></th>\n",
       "      <th></th>\n",
       "      <th></th>\n",
       "      <th></th>\n",
       "    </tr>\n",
       "  </thead>\n",
       "  <tbody>\n",
       "    <tr>\n",
       "      <th>2015-01-02</th>\n",
       "      <td>101.1385</td>\n",
       "      <td>308.52</td>\n",
       "      <td>78.45</td>\n",
       "      <td>524.81</td>\n",
       "      <td>49.8485</td>\n",
       "    </tr>\n",
       "  </tbody>\n",
       "</table>\n",
       "</div>"
      ],
      "text/plain": [
       "                AAPL    AMZN     FB    GOOG     NFLX\n",
       "date                                                \n",
       "2015-01-02  101.1385  308.52  78.45  524.81  49.8485"
      ]
     },
     "execution_count": 4,
     "metadata": {},
     "output_type": "execute_result"
    }
   ],
   "source": [
    "prices = pd.read_csv(\"portfolio.csv\", index_col = 'date')\n",
    "prices.head(1)"
   ]
  },
  {
   "cell_type": "code",
   "execution_count": 5,
   "metadata": {
    "scrolled": true
   },
   "outputs": [
    {
     "data": {
      "text/html": [
       "<div>\n",
       "<style scoped>\n",
       "    .dataframe tbody tr th:only-of-type {\n",
       "        vertical-align: middle;\n",
       "    }\n",
       "\n",
       "    .dataframe tbody tr th {\n",
       "        vertical-align: top;\n",
       "    }\n",
       "\n",
       "    .dataframe thead th {\n",
       "        text-align: right;\n",
       "    }\n",
       "</style>\n",
       "<table border=\"1\" class=\"dataframe\">\n",
       "  <thead>\n",
       "    <tr style=\"text-align: right;\">\n",
       "      <th></th>\n",
       "      <th>AAPL</th>\n",
       "      <th>AMZN</th>\n",
       "      <th>FB</th>\n",
       "      <th>GOOG</th>\n",
       "      <th>NFLX</th>\n",
       "    </tr>\n",
       "    <tr>\n",
       "      <th>date</th>\n",
       "      <th></th>\n",
       "      <th></th>\n",
       "      <th></th>\n",
       "      <th></th>\n",
       "      <th></th>\n",
       "    </tr>\n",
       "  </thead>\n",
       "  <tbody>\n",
       "    <tr>\n",
       "      <th>2015-01-02</th>\n",
       "      <td>NaN</td>\n",
       "      <td>NaN</td>\n",
       "      <td>NaN</td>\n",
       "      <td>NaN</td>\n",
       "      <td>NaN</td>\n",
       "    </tr>\n",
       "    <tr>\n",
       "      <th>2015-01-05</th>\n",
       "      <td>-0.028171</td>\n",
       "      <td>-0.020517</td>\n",
       "      <td>-0.016061</td>\n",
       "      <td>-0.020846</td>\n",
       "      <td>-0.050896</td>\n",
       "    </tr>\n",
       "  </tbody>\n",
       "</table>\n",
       "</div>"
      ],
      "text/plain": [
       "                AAPL      AMZN        FB      GOOG      NFLX\n",
       "date                                                        \n",
       "2015-01-02       NaN       NaN       NaN       NaN       NaN\n",
       "2015-01-05 -0.028171 -0.020517 -0.016061 -0.020846 -0.050896"
      ]
     },
     "execution_count": 5,
     "metadata": {},
     "output_type": "execute_result"
    }
   ],
   "source": [
    "returns = prices.pct_change()\n",
    "returns.head(2)"
   ]
  },
  {
   "cell_type": "markdown",
   "metadata": {},
   "source": [
    "# Make plots look nicer!"
   ]
  },
  {
   "cell_type": "markdown",
   "metadata": {},
   "source": [
    "https://jakevdp.github.io/PythonDataScienceHandbook/04.11-settings-and-stylesheets.html"
   ]
  },
  {
   "cell_type": "code",
   "execution_count": 53,
   "metadata": {},
   "outputs": [],
   "source": [
    "import matplotlib.pyplot as plt\n",
    "import seaborn"
   ]
  },
  {
   "cell_type": "code",
   "execution_count": 39,
   "metadata": {},
   "outputs": [
    {
     "name": "stdout",
     "output_type": "stream",
     "text": [
      "Populating the interactive namespace from numpy and matplotlib\n"
     ]
    }
   ],
   "source": [
    "%pylab inline\n",
    "rcParams['figure.figsize'] = (8,4)"
   ]
  },
  {
   "cell_type": "code",
   "execution_count": 48,
   "metadata": {},
   "outputs": [
    {
     "data": {
      "text/plain": [
       "['bmh',\n",
       " 'classic',\n",
       " 'dark_background',\n",
       " 'fast',\n",
       " 'fivethirtyeight',\n",
       " 'ggplot',\n",
       " 'grayscale',\n",
       " 'seaborn-bright',\n",
       " 'seaborn-colorblind',\n",
       " 'seaborn-dark-palette',\n",
       " 'seaborn-dark',\n",
       " 'seaborn-darkgrid',\n",
       " 'seaborn-deep',\n",
       " 'seaborn-muted',\n",
       " 'seaborn-notebook',\n",
       " 'seaborn-paper',\n",
       " 'seaborn-pastel',\n",
       " 'seaborn-poster',\n",
       " 'seaborn-talk',\n",
       " 'seaborn-ticks',\n",
       " 'seaborn-white',\n",
       " 'seaborn-whitegrid',\n",
       " 'seaborn',\n",
       " 'Solarize_Light2',\n",
       " 'tableau-colorblind10',\n",
       " '_classic_test']"
      ]
     },
     "execution_count": 48,
     "metadata": {},
     "output_type": "execute_result"
    }
   ],
   "source": [
    "plt.style.available[:]"
   ]
  },
  {
   "cell_type": "code",
   "execution_count": 101,
   "metadata": {},
   "outputs": [],
   "source": [
    "# permanantly set a style for plots\n",
    "plt.style.use('seaborn')"
   ]
  },
  {
   "cell_type": "code",
   "execution_count": 102,
   "metadata": {},
   "outputs": [
    {
     "data": {
      "text/plain": [
       "<matplotlib.axes._subplots.AxesSubplot at 0x2e241093348>"
      ]
     },
     "execution_count": 102,
     "metadata": {},
     "output_type": "execute_result"
    },
    {
     "data": {
      "image/png": "[encoded data removed]",
      "text/plain": [
       "<Figure size 576x396 with 1 Axes>"
      ]
     },
     "metadata": {},
     "output_type": "display_data"
    }
   ],
   "source": [
    "prices['FB'].plot()"
   ]
  },
  {
   "cell_type": "code",
   "execution_count": 56,
   "metadata": {},
   "outputs": [
    {
     "data": {
      "image/png": "[encoded data removed]",
      "text/plain": [
       "<Figure size 576x396 with 1 Axes>"
      ]
     },
     "metadata": {},
     "output_type": "display_data"
    }
   ],
   "source": [
    "# temporary styling\n",
    "with plt.style.context('fivethirtyeight'):\n",
    "    returns['AAPL'].hist()"
   ]
  },
  {
   "cell_type": "code",
   "execution_count": 57,
   "metadata": {},
   "outputs": [
    {
     "data": {
      "image/png": "[encoded data removed]",
      "text/plain": [
       "<Figure size 576x396 with 1 Axes>"
      ]
     },
     "metadata": {},
     "output_type": "display_data"
    }
   ],
   "source": [
    "# temporary styling\n",
    "with plt.style.context('ggplot'):\n",
    "    returns['AAPL'].hist()"
   ]
  },
  {
   "cell_type": "markdown",
   "metadata": {},
   "source": [
    "# Datetime"
   ]
  },
  {
   "cell_type": "code",
   "execution_count": 63,
   "metadata": {},
   "outputs": [
    {
     "data": {
      "text/html": [
       "<div>\n",
       "<style scoped>\n",
       "    .dataframe tbody tr th:only-of-type {\n",
       "        vertical-align: middle;\n",
       "    }\n",
       "\n",
       "    .dataframe tbody tr th {\n",
       "        vertical-align: top;\n",
       "    }\n",
       "\n",
       "    .dataframe thead th {\n",
       "        text-align: right;\n",
       "    }\n",
       "</style>\n",
       "<table border=\"1\" class=\"dataframe\">\n",
       "  <thead>\n",
       "    <tr style=\"text-align: right;\">\n",
       "      <th></th>\n",
       "      <th>AAPL</th>\n",
       "      <th>AMZN</th>\n",
       "      <th>FB</th>\n",
       "      <th>GOOG</th>\n",
       "      <th>NFLX</th>\n",
       "    </tr>\n",
       "    <tr>\n",
       "      <th>date</th>\n",
       "      <th></th>\n",
       "      <th></th>\n",
       "      <th></th>\n",
       "      <th></th>\n",
       "      <th></th>\n",
       "    </tr>\n",
       "  </thead>\n",
       "  <tbody>\n",
       "    <tr>\n",
       "      <th>2015-01-02</th>\n",
       "      <td>NaN</td>\n",
       "      <td>NaN</td>\n",
       "      <td>NaN</td>\n",
       "      <td>NaN</td>\n",
       "      <td>NaN</td>\n",
       "    </tr>\n",
       "    <tr>\n",
       "      <th>2015-01-05</th>\n",
       "      <td>-0.028171</td>\n",
       "      <td>-0.020517</td>\n",
       "      <td>-0.016061</td>\n",
       "      <td>-0.020846</td>\n",
       "      <td>-0.050896</td>\n",
       "    </tr>\n",
       "    <tr>\n",
       "      <th>2015-01-06</th>\n",
       "      <td>0.000094</td>\n",
       "      <td>-0.022833</td>\n",
       "      <td>-0.013473</td>\n",
       "      <td>-0.023177</td>\n",
       "      <td>-0.017121</td>\n",
       "    </tr>\n",
       "    <tr>\n",
       "      <th>2015-01-07</th>\n",
       "      <td>0.014023</td>\n",
       "      <td>0.010600</td>\n",
       "      <td>0.000000</td>\n",
       "      <td>-0.001713</td>\n",
       "      <td>0.005191</td>\n",
       "    </tr>\n",
       "    <tr>\n",
       "      <th>2015-01-08</th>\n",
       "      <td>0.038422</td>\n",
       "      <td>0.006836</td>\n",
       "      <td>0.026592</td>\n",
       "      <td>0.003153</td>\n",
       "      <td>0.022172</td>\n",
       "    </tr>\n",
       "  </tbody>\n",
       "</table>\n",
       "</div>"
      ],
      "text/plain": [
       "                AAPL      AMZN        FB      GOOG      NFLX\n",
       "date                                                        \n",
       "2015-01-02       NaN       NaN       NaN       NaN       NaN\n",
       "2015-01-05 -0.028171 -0.020517 -0.016061 -0.020846 -0.050896\n",
       "2015-01-06  0.000094 -0.022833 -0.013473 -0.023177 -0.017121\n",
       "2015-01-07  0.014023  0.010600  0.000000 -0.001713  0.005191\n",
       "2015-01-08  0.038422  0.006836  0.026592  0.003153  0.022172"
      ]
     },
     "execution_count": 63,
     "metadata": {},
     "output_type": "execute_result"
    }
   ],
   "source": [
    "# turn index into date-time objects\n",
    "returns.index = pd.to_datetime(returns.index)\n",
    "returns.head()"
   ]
  },
  {
   "cell_type": "markdown",
   "metadata": {},
   "source": [
    "# Portfolio Risk"
   ]
  },
  {
   "cell_type": "markdown",
   "metadata": {},
   "source": [
    "#### Portfolio Annualized Covariance Matrix"
   ]
  },
  {
   "cell_type": "code",
   "execution_count": 22,
   "metadata": {},
   "outputs": [
    {
     "data": {
      "text/html": [
       "<div>\n",
       "<style scoped>\n",
       "    .dataframe tbody tr th:only-of-type {\n",
       "        vertical-align: middle;\n",
       "    }\n",
       "\n",
       "    .dataframe tbody tr th {\n",
       "        vertical-align: top;\n",
       "    }\n",
       "\n",
       "    .dataframe thead th {\n",
       "        text-align: right;\n",
       "    }\n",
       "</style>\n",
       "<table border=\"1\" class=\"dataframe\">\n",
       "  <thead>\n",
       "    <tr style=\"text-align: right;\">\n",
       "      <th></th>\n",
       "      <th>AAPL</th>\n",
       "      <th>AMZN</th>\n",
       "      <th>FB</th>\n",
       "      <th>GOOG</th>\n",
       "      <th>NFLX</th>\n",
       "    </tr>\n",
       "  </thead>\n",
       "  <tbody>\n",
       "    <tr>\n",
       "      <th>AAPL</th>\n",
       "      <td>0.063118</td>\n",
       "      <td>0.037599</td>\n",
       "      <td>0.032926</td>\n",
       "      <td>0.031483</td>\n",
       "      <td>0.039957</td>\n",
       "    </tr>\n",
       "    <tr>\n",
       "      <th>AMZN</th>\n",
       "      <td>0.037599</td>\n",
       "      <td>0.093749</td>\n",
       "      <td>0.049486</td>\n",
       "      <td>0.048395</td>\n",
       "      <td>0.063560</td>\n",
       "    </tr>\n",
       "    <tr>\n",
       "      <th>FB</th>\n",
       "      <td>0.032926</td>\n",
       "      <td>0.049486</td>\n",
       "      <td>0.082483</td>\n",
       "      <td>0.041922</td>\n",
       "      <td>0.049808</td>\n",
       "    </tr>\n",
       "    <tr>\n",
       "      <th>GOOG</th>\n",
       "      <td>0.031483</td>\n",
       "      <td>0.048395</td>\n",
       "      <td>0.041922</td>\n",
       "      <td>0.057460</td>\n",
       "      <td>0.049559</td>\n",
       "    </tr>\n",
       "    <tr>\n",
       "      <th>NFLX</th>\n",
       "      <td>0.039957</td>\n",
       "      <td>0.063560</td>\n",
       "      <td>0.049808</td>\n",
       "      <td>0.049559</td>\n",
       "      <td>0.185543</td>\n",
       "    </tr>\n",
       "  </tbody>\n",
       "</table>\n",
       "</div>"
      ],
      "text/plain": [
       "          AAPL      AMZN        FB      GOOG      NFLX\n",
       "AAPL  0.063118  0.037599  0.032926  0.031483  0.039957\n",
       "AMZN  0.037599  0.093749  0.049486  0.048395  0.063560\n",
       "FB    0.032926  0.049486  0.082483  0.041922  0.049808\n",
       "GOOG  0.031483  0.048395  0.041922  0.057460  0.049559\n",
       "NFLX  0.039957  0.063560  0.049808  0.049559  0.185543"
      ]
     },
     "execution_count": 22,
     "metadata": {},
     "output_type": "execute_result"
    }
   ],
   "source": [
    "# 252 trading days/year\n",
    "annualizedCovarianceMatrix = returns.cov() * 252\n",
    "annualizedCovarianceMatrix"
   ]
  },
  {
   "cell_type": "markdown",
   "metadata": {},
   "source": [
    "#### Portfolio Volatility"
   ]
  },
  {
   "cell_type": "code",
   "execution_count": 23,
   "metadata": {},
   "outputs": [],
   "source": [
    "weights = [0.2, 0.2, 0.2, 0.2, 0.2]"
   ]
  },
  {
   "cell_type": "code",
   "execution_count": 24,
   "metadata": {},
   "outputs": [
    {
     "data": {
      "text/plain": [
       "0.054869742389783704"
      ]
     },
     "execution_count": 24,
     "metadata": {},
     "output_type": "execute_result"
    }
   ],
   "source": [
    "portfolioVolatility = np.transpose(weights) @ annualizedCovarianceMatrix @ weights\n",
    "portfolioVolatility"
   ]
  },
  {
   "cell_type": "markdown",
   "metadata": {},
   "source": [
    "### Convert Daily values to Weekly/Quarterly values"
   ]
  },
  {
   "cell_type": "code",
   "execution_count": 64,
   "metadata": {},
   "outputs": [],
   "source": [
    "# converts daily returns to quarterly average returns\n",
    "returnsQuarterlyAverage = returns.resample('Q').mean()\n",
    "\n",
    "# converts daily returns to weekly minimum returns\n",
    "returnsWeeklyMinimum = returns.resample('W').min()"
   ]
  },
  {
   "cell_type": "markdown",
   "metadata": {},
   "source": [
    "# Regression\n",
    "https://www.statsmodels.org/dev/generated/statsmodels.regression.linear_model.OLS.html"
   ]
  },
  {
   "cell_type": "code",
   "execution_count": null,
   "metadata": {},
   "outputs": [],
   "source": [
    "import statsmodels.api as sm\n",
    "# Let's declare our X and y variables\n",
    "X = df['weight']\n",
    "y = df['height']\n",
    "# With Statsmodels, we need to add our intercept term, B0, manually\n",
    "X = sm.add_constant(X)\n",
    "X.head()"
   ]
  },
  {
   "cell_type": "code",
   "execution_count": null,
   "metadata": {},
   "outputs": [],
   "source": [
    "# This procedure below is how the model is fit in Statsmodels\n",
    "model = sm.OLS(endog=y, exog=X)\n",
    "results = model.fit()\n",
    "# Show the summary\n",
    "results.summary()"
   ]
  },
  {
   "cell_type": "code",
   "execution_count": null,
   "metadata": {},
   "outputs": [],
   "source": [
    "# we can extract the coefficients summary below:\n",
    "results.summary2().tables[1]"
   ]
  },
  {
   "cell_type": "markdown",
   "metadata": {},
   "source": [
    "# Replacing str values"
   ]
  },
  {
   "cell_type": "markdown",
   "metadata": {},
   "source": [
    "https://stackoverflow.com/questions/31697043/replace-exact-substring-in-python"
   ]
  },
  {
   "cell_type": "markdown",
   "metadata": {},
   "source": [
    "# Model Results\n",
    "- https://stackoverflow.com/questions/26319259/how-to-get-a-regression-summary-in-python-scikit-like-r-does"
   ]
  },
  {
   "cell_type": "code",
   "execution_count": 1,
   "metadata": {},
   "outputs": [],
   "source": [
    "import sklearn.metrics as metrics\n",
    "def regression_results(y_true, y_pred):\n",
    "\n",
    "    # Regression metrics\n",
    "    explained_variance=metrics.explained_variance_score(y_true, y_pred)\n",
    "    mean_absolute_error=metrics.mean_absolute_error(y_true, y_pred) \n",
    "    mse=metrics.mean_squared_error(y_true, y_pred) \n",
    "    mean_squared_log_error=metrics.mean_squared_log_error(y_true, y_pred)\n",
    "    median_absolute_error=metrics.median_absolute_error(y_true, y_pred)\n",
    "    r2=metrics.r2_score(y_true, y_pred)\n",
    "\n",
    "    print('explained_variance: ', round(explained_variance,4))    \n",
    "    print('mean_squared_log_error: ', round(mean_squared_log_error,4))\n",
    "    print('r2: ', round(r2,4))\n",
    "    print('MAE: ', round(mean_absolute_error,4))\n",
    "    print('MSE: ', round(mse,4))\n",
    "    print('RMSE: ', round(np.sqrt(mse),4))"
   ]
  },
  {
   "cell_type": "markdown",
   "metadata": {},
   "source": [
    "# Correlation Heatplot"
   ]
  },
  {
   "cell_type": "markdown",
   "metadata": {},
   "source": [
    "#### option 1:"
   ]
  },
  {
   "cell_type": "markdown",
   "metadata": {},
   "source": [
    "https://towardsdatascience.com/better-heatmaps-and-correlation-matrix-plots-in-python-41445d0f2bec"
   ]
  },
  {
   "cell_type": "code",
   "execution_count": 11,
   "metadata": {},
   "outputs": [],
   "source": [
    "import seaborn as sns\n",
    "import matplotlib.pyplot as plt"
   ]
  },
  {
   "cell_type": "code",
   "execution_count": 12,
   "metadata": {},
   "outputs": [],
   "source": [
    "def correlationHeatMap(df):\n",
    "    import seaborn as sns\n",
    "    import matplotlib.pyplot as plt\n",
    "    corr = df.corr()\n",
    "    fig, ax = plt.subplots(figsize=(10,10)) \n",
    "    ax = sns.heatmap(\n",
    "        corr, \n",
    "        vmin=-1, vmax=1, center=0,\n",
    "        cmap=sns.diverging_palette(20, 220, n=200),\n",
    "        square=True\n",
    "    )\n",
    "    ax.set_xticklabels(\n",
    "        ax.get_xticklabels(),\n",
    "        rotation=45,\n",
    "        horizontalalignment='right'\n",
    "    );"
   ]
  },
  {
   "cell_type": "code",
   "execution_count": 13,
   "metadata": {},
   "outputs": [
    {
     "data": {
      "image/png": "[encoded data removed]",
      "text/plain": [
       "<Figure size 720x720 with 2 Axes>"
      ]
     },
     "metadata": {
      "needs_background": "light"
     },
     "output_type": "display_data"
    }
   ],
   "source": [
    "correlationHeatMap(returns)"
   ]
  },
  {
   "cell_type": "markdown",
   "metadata": {},
   "source": [
    "#### option 2:"
   ]
  },
  {
   "cell_type": "code",
   "execution_count": 6,
   "metadata": {
    "scrolled": true
   },
   "outputs": [
    {
     "data": {
      "text/html": [
       "<style  type=\"text/css\" >\n",
       "    #T_5035a48c_1ca5_11eb_9f58_a148cbe686e9row0_col0 {\n",
       "            background-color:  #b40426;\n",
       "            color:  #f1f1f1;\n",
       "        }    #T_5035a48c_1ca5_11eb_9f58_a148cbe686e9row0_col1 {\n",
       "            background-color:  #3e51c5;\n",
       "            color:  #f1f1f1;\n",
       "        }    #T_5035a48c_1ca5_11eb_9f58_a148cbe686e9row0_col2 {\n",
       "            background-color:  #5673e0;\n",
       "            color:  #000000;\n",
       "        }    #T_5035a48c_1ca5_11eb_9f58_a148cbe686e9row0_col3 {\n",
       "            background-color:  #5470de;\n",
       "            color:  #000000;\n",
       "        }    #T_5035a48c_1ca5_11eb_9f58_a148cbe686e9row0_col4 {\n",
       "            background-color:  #3b4cc0;\n",
       "            color:  #f1f1f1;\n",
       "        }    #T_5035a48c_1ca5_11eb_9f58_a148cbe686e9row1_col0 {\n",
       "            background-color:  #779af7;\n",
       "            color:  #000000;\n",
       "        }    #T_5035a48c_1ca5_11eb_9f58_a148cbe686e9row1_col1 {\n",
       "            background-color:  #b40426;\n",
       "            color:  #f1f1f1;\n",
       "        }    #T_5035a48c_1ca5_11eb_9f58_a148cbe686e9row1_col2 {\n",
       "            background-color:  #93b5fe;\n",
       "            color:  #000000;\n",
       "        }    #T_5035a48c_1ca5_11eb_9f58_a148cbe686e9row1_col3 {\n",
       "            background-color:  #aec9fc;\n",
       "            color:  #000000;\n",
       "        }    #T_5035a48c_1ca5_11eb_9f58_a148cbe686e9row1_col4 {\n",
       "            background-color:  #7396f5;\n",
       "            color:  #000000;\n",
       "        }    #T_5035a48c_1ca5_11eb_9f58_a148cbe686e9row2_col0 {\n",
       "            background-color:  #6687ed;\n",
       "            color:  #000000;\n",
       "        }    #T_5035a48c_1ca5_11eb_9f58_a148cbe686e9row2_col1 {\n",
       "            background-color:  #6b8df0;\n",
       "            color:  #000000;\n",
       "        }    #T_5035a48c_1ca5_11eb_9f58_a148cbe686e9row2_col2 {\n",
       "            background-color:  #b40426;\n",
       "            color:  #f1f1f1;\n",
       "        }    #T_5035a48c_1ca5_11eb_9f58_a148cbe686e9row2_col3 {\n",
       "            background-color:  #8caffe;\n",
       "            color:  #000000;\n",
       "        }    #T_5035a48c_1ca5_11eb_9f58_a148cbe686e9row2_col4 {\n",
       "            background-color:  #4a63d3;\n",
       "            color:  #f1f1f1;\n",
       "        }    #T_5035a48c_1ca5_11eb_9f58_a148cbe686e9row3_col0 {\n",
       "            background-color:  #8badfd;\n",
       "            color:  #000000;\n",
       "        }    #T_5035a48c_1ca5_11eb_9f58_a148cbe686e9row3_col1 {\n",
       "            background-color:  #adc9fd;\n",
       "            color:  #000000;\n",
       "        }    #T_5035a48c_1ca5_11eb_9f58_a148cbe686e9row3_col2 {\n",
       "            background-color:  #aec9fc;\n",
       "            color:  #000000;\n",
       "        }    #T_5035a48c_1ca5_11eb_9f58_a148cbe686e9row3_col3 {\n",
       "            background-color:  #b40426;\n",
       "            color:  #f1f1f1;\n",
       "        }    #T_5035a48c_1ca5_11eb_9f58_a148cbe686e9row3_col4 {\n",
       "            background-color:  #7295f4;\n",
       "            color:  #000000;\n",
       "        }    #T_5035a48c_1ca5_11eb_9f58_a148cbe686e9row4_col0 {\n",
       "            background-color:  #3b4cc0;\n",
       "            color:  #f1f1f1;\n",
       "        }    #T_5035a48c_1ca5_11eb_9f58_a148cbe686e9row4_col1 {\n",
       "            background-color:  #3b4cc0;\n",
       "            color:  #f1f1f1;\n",
       "        }    #T_5035a48c_1ca5_11eb_9f58_a148cbe686e9row4_col2 {\n",
       "            background-color:  #3b4cc0;\n",
       "            color:  #f1f1f1;\n",
       "        }    #T_5035a48c_1ca5_11eb_9f58_a148cbe686e9row4_col3 {\n",
       "            background-color:  #3b4cc0;\n",
       "            color:  #f1f1f1;\n",
       "        }    #T_5035a48c_1ca5_11eb_9f58_a148cbe686e9row4_col4 {\n",
       "            background-color:  #b40426;\n",
       "            color:  #f1f1f1;\n",
       "        }</style><table id=\"T_5035a48c_1ca5_11eb_9f58_a148cbe686e9\" ><thead>    <tr>        <th class=\"blank level0\" ></th>        <th class=\"col_heading level0 col0\" >AAPL</th>        <th class=\"col_heading level0 col1\" >AMZN</th>        <th class=\"col_heading level0 col2\" >FB</th>        <th class=\"col_heading level0 col3\" >GOOG</th>        <th class=\"col_heading level0 col4\" >NFLX</th>    </tr></thead><tbody>\n",
       "                <tr>\n",
       "                        <th id=\"T_5035a48c_1ca5_11eb_9f58_a148cbe686e9level0_row0\" class=\"row_heading level0 row0\" >AAPL</th>\n",
       "                        <td id=\"T_5035a48c_1ca5_11eb_9f58_a148cbe686e9row0_col0\" class=\"data row0 col0\" >1.000000</td>\n",
       "                        <td id=\"T_5035a48c_1ca5_11eb_9f58_a148cbe686e9row0_col1\" class=\"data row0 col1\" >0.488785</td>\n",
       "                        <td id=\"T_5035a48c_1ca5_11eb_9f58_a148cbe686e9row0_col2\" class=\"data row0 col2\" >0.456328</td>\n",
       "                        <td id=\"T_5035a48c_1ca5_11eb_9f58_a148cbe686e9row0_col3\" class=\"data row0 col3\" >0.522783</td>\n",
       "                        <td id=\"T_5035a48c_1ca5_11eb_9f58_a148cbe686e9row0_col4\" class=\"data row0 col4\" >0.369227</td>\n",
       "            </tr>\n",
       "            <tr>\n",
       "                        <th id=\"T_5035a48c_1ca5_11eb_9f58_a148cbe686e9level0_row1\" class=\"row_heading level0 row1\" >AMZN</th>\n",
       "                        <td id=\"T_5035a48c_1ca5_11eb_9f58_a148cbe686e9row1_col0\" class=\"data row1 col0\" >0.488785</td>\n",
       "                        <td id=\"T_5035a48c_1ca5_11eb_9f58_a148cbe686e9row1_col1\" class=\"data row1 col1\" >1.000000</td>\n",
       "                        <td id=\"T_5035a48c_1ca5_11eb_9f58_a148cbe686e9row1_col2\" class=\"data row1 col2\" >0.562756</td>\n",
       "                        <td id=\"T_5035a48c_1ca5_11eb_9f58_a148cbe686e9row1_col3\" class=\"data row1 col3\" >0.659374</td>\n",
       "                        <td id=\"T_5035a48c_1ca5_11eb_9f58_a148cbe686e9row1_col4\" class=\"data row1 col4\" >0.481925</td>\n",
       "            </tr>\n",
       "            <tr>\n",
       "                        <th id=\"T_5035a48c_1ca5_11eb_9f58_a148cbe686e9level0_row2\" class=\"row_heading level0 row2\" >FB</th>\n",
       "                        <td id=\"T_5035a48c_1ca5_11eb_9f58_a148cbe686e9row2_col0\" class=\"data row2 col0\" >0.456328</td>\n",
       "                        <td id=\"T_5035a48c_1ca5_11eb_9f58_a148cbe686e9row2_col1\" class=\"data row2 col1\" >0.562756</td>\n",
       "                        <td id=\"T_5035a48c_1ca5_11eb_9f58_a148cbe686e9row2_col2\" class=\"data row2 col2\" >1.000000</td>\n",
       "                        <td id=\"T_5035a48c_1ca5_11eb_9f58_a148cbe686e9row2_col3\" class=\"data row2 col3\" >0.608949</td>\n",
       "                        <td id=\"T_5035a48c_1ca5_11eb_9f58_a148cbe686e9row2_col4\" class=\"data row2 col4\" >0.402616</td>\n",
       "            </tr>\n",
       "            <tr>\n",
       "                        <th id=\"T_5035a48c_1ca5_11eb_9f58_a148cbe686e9level0_row3\" class=\"row_heading level0 row3\" >GOOG</th>\n",
       "                        <td id=\"T_5035a48c_1ca5_11eb_9f58_a148cbe686e9row3_col0\" class=\"data row3 col0\" >0.522783</td>\n",
       "                        <td id=\"T_5035a48c_1ca5_11eb_9f58_a148cbe686e9row3_col1\" class=\"data row3 col1\" >0.659374</td>\n",
       "                        <td id=\"T_5035a48c_1ca5_11eb_9f58_a148cbe686e9row3_col2\" class=\"data row3 col2\" >0.608949</td>\n",
       "                        <td id=\"T_5035a48c_1ca5_11eb_9f58_a148cbe686e9row3_col3\" class=\"data row3 col3\" >1.000000</td>\n",
       "                        <td id=\"T_5035a48c_1ca5_11eb_9f58_a148cbe686e9row3_col4\" class=\"data row3 col4\" >0.479972</td>\n",
       "            </tr>\n",
       "            <tr>\n",
       "                        <th id=\"T_5035a48c_1ca5_11eb_9f58_a148cbe686e9level0_row4\" class=\"row_heading level0 row4\" >NFLX</th>\n",
       "                        <td id=\"T_5035a48c_1ca5_11eb_9f58_a148cbe686e9row4_col0\" class=\"data row4 col0\" >0.369227</td>\n",
       "                        <td id=\"T_5035a48c_1ca5_11eb_9f58_a148cbe686e9row4_col1\" class=\"data row4 col1\" >0.481925</td>\n",
       "                        <td id=\"T_5035a48c_1ca5_11eb_9f58_a148cbe686e9row4_col2\" class=\"data row4 col2\" >0.402616</td>\n",
       "                        <td id=\"T_5035a48c_1ca5_11eb_9f58_a148cbe686e9row4_col3\" class=\"data row4 col3\" >0.479972</td>\n",
       "                        <td id=\"T_5035a48c_1ca5_11eb_9f58_a148cbe686e9row4_col4\" class=\"data row4 col4\" >1.000000</td>\n",
       "            </tr>\n",
       "    </tbody></table>"
      ],
      "text/plain": [
       "<pandas.io.formats.style.Styler at 0x25dcb57b488>"
      ]
     },
     "execution_count": 6,
     "metadata": {},
     "output_type": "execute_result"
    }
   ],
   "source": [
    "returns.corr().style.background_gradient(cmap='coolwarm')"
   ]
  },
  {
   "cell_type": "markdown",
   "metadata": {},
   "source": [
    "# Feature Selection"
   ]
  },
  {
   "cell_type": "markdown",
   "metadata": {},
   "source": [
    "### Remove Highly Correlated Features (one of the pairs)"
   ]
  },
  {
   "cell_type": "code",
   "execution_count": 1,
   "metadata": {},
   "outputs": [],
   "source": [
    "def remove_highly_correlated_feature_pairs(df_temp, correlationThreshold):\n",
    "    #correlationThreshold should be a decimal (90% -> 0.90)\n",
    "    \n",
    "    # https://stackoverflow.com/questions/29294983/\n",
    "    corr_matrix = df_temp.corr().abs()\n",
    "    # Select upper triangle of correlation matrix\n",
    "    upper = corr_matrix.where(np.triu(np.ones(corr_matrix.shape), k=1).astype(np.bool))\n",
    "    # Find index of feature columns with correlation greater than 0.95\n",
    "    to_drop = [column for column in upper.columns if any(upper[column] > correlationThreshold)]\n",
    "    \n",
    "    # returns both reduced dataframe and columns dropped\n",
    "    return df_temp.drop(df_temp[to_drop], axis=1), to_drop"
   ]
  },
  {
   "cell_type": "code",
   "execution_count": 2,
   "metadata": {},
   "outputs": [],
   "source": [
    "def return_features_from_selectKBest(X_train, y_train, k_input):\n",
    "    from sklearn.feature_selection import SelectKBest\n",
    "    from sklearn.feature_selection import f_regression, mutual_info_regression\n",
    "    \"\"\"\n",
    "    SelectKBest removes all but the 'k' highest performing features \n",
    "    It identifies the \"best performing features\" (for regression models) \n",
    "    either with f_regression or mutual_info_regression    \n",
    "    \"\"\"\n",
    "        \n",
    "    # creates KBest model via fRegression then returns the k-features determined as important by the model\n",
    "    model_KBest_fRegression = SelectKBest(f_regression, k=k_input)\n",
    "    model_KBest_fRegression.fit(np.nan_to_num(X_train), y_train)\n",
    "    mask_KBest = model_KBest_fRegression.get_support()\n",
    "    list_KBest_fRegression_new_features = X_train.columns[mask_KBest]\n",
    "    \n",
    "    model_KBest_mutual_info_regression = SelectKBest(mutual_info_regression, k=k_input)\n",
    "    model_KBest_mutual_info_regression.fit(np.nan_to_num(X_train), y_train)\n",
    "\n",
    "    # https://stackoverflow.com/questions/39839112/\n",
    "    mask_MIR = model_KBest_mutual_info_regression.get_support()\n",
    "    list_KBest_mutual_info_regression_new_features = X_train.columns[mask_MIR]\n",
    "    \n",
    "    return list_KBest_fRegression_new_features, list_KBest_mutual_info_regression_new_features"
   ]
  },
  {
   "cell_type": "markdown",
   "metadata": {},
   "source": [
    "# Subset Dataframe with list of columns"
   ]
  },
  {
   "cell_type": "code",
   "execution_count": null,
   "metadata": {},
   "outputs": [],
   "source": [
    "df[[*list_of_columns]]"
   ]
  },
  {
   "cell_type": "markdown",
   "metadata": {},
   "source": [
    "# Random Forest Regressor"
   ]
  },
  {
   "cell_type": "code",
   "execution_count": 1,
   "metadata": {},
   "outputs": [],
   "source": [
    "def return_randomForest_results(X, y):\n",
    "    from sklearn.ensemble import RandomForestRegressor\n",
    "    # https://scikit-learn.org/stable/modules/generated/sklearn.ensemble.RandomForestRegressor.html\n",
    "    regr = RandomForestRegressor(max_depth=2, random_state=0)\n",
    "    regr.fit(X, y)\n",
    "    \n",
    "    return regr"
   ]
  },
  {
   "cell_type": "markdown",
   "metadata": {},
   "source": [
    "# Progress Bar on For Loops\n",
    "http://qpleple.com/add-progress-bars-to-your-python-loops/"
   ]
  },
  {
   "cell_type": "code",
   "execution_count": 4,
   "metadata": {},
   "outputs": [],
   "source": [
    "#!pip install progressbar"
   ]
  },
  {
   "cell_type": "code",
   "execution_count": 2,
   "metadata": {},
   "outputs": [],
   "source": [
    "from progressbar import ProgressBar\n",
    "pbar = ProgressBar()"
   ]
  },
  {
   "cell_type": "code",
   "execution_count": 3,
   "metadata": {},
   "outputs": [
    {
     "name": "stderr",
     "output_type": "stream",
     "text": [
      "100% |########################################################################|\n"
     ]
    }
   ],
   "source": [
    "y = 0\n",
    "for i in pbar(range(1000)):\n",
    "    y += 1"
   ]
  },
  {
   "cell_type": "markdown",
   "metadata": {},
   "source": [
    "# Convert datetime timezones\n",
    "https://stackoverflow.com/questions/34789888/convert-datetime-columns-to-a-different-timezone-pandas"
   ]
  },
  {
   "cell_type": "code",
   "execution_count": null,
   "metadata": {},
   "outputs": [],
   "source": []
  }
 ],
 "metadata": {
  "kernelspec": {
   "display_name": "Python 3",
   "language": "python",
   "name": "python3"
  },
  "language_info": {
   "codemirror_mode": {
    "name": "ipython",
    "version": 3
   },
   "file_extension": ".py",
   "mimetype": "text/x-python",
   "name": "python",
   "nbconvert_exporter": "python",
   "pygments_lexer": "ipython3",
   "version": "3.8.5"
  }
 },
 "nbformat": 4,
 "nbformat_minor": 4
}
